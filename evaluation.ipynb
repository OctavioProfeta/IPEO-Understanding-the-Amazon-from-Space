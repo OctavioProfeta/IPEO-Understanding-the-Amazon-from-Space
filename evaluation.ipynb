{
 "cells": [
  {
   "cell_type": "code",
   "execution_count": null,
   "metadata": {},
   "outputs": [],
   "source": [
    "# You must change the following path\n",
    "PATH = drive/MyDrive/Colab_Notebooks/Observation-earth/IPEO-Understanding-the-Amazon-from-Space/\n",
    "%cd PATH"
   ]
  },
  {
   "cell_type": "code",
   "execution_count": 16,
   "metadata": {},
   "outputs": [],
   "source": [
    "from dataset import DatasetAmazon\n",
    "from model import PlanetModel, testModel, ResNet\n",
    "import torch\n",
    "import pytorch_lightning as pl\n",
    "from pytorch_lightning import loggers as pl_loggers\n",
    "import time\n",
    "\n",
    "from pytorch_lightning.callbacks import ModelCheckpoint\n",
    "import os\n",
    "import sys\n",
    "import numpy as np\n",
    "\n",
    "from accuracy_metrics import Hamming_distance, transform_pred, overall_acc, count_false"
   ]
  },
  {
   "cell_type": "code",
   "execution_count": null,
   "metadata": {},
   "outputs": [],
   "source": [
    "device = torch.device(\"cuda\" if torch.cuda.is_available() else \"cpu\")"
   ]
  },
  {
   "cell_type": "code",
   "execution_count": null,
   "metadata": {},
   "outputs": [],
   "source": [
    "full, tiny = True, False\n",
    "test_dataset = DatasetAmazon(full=full, test=True, path_to_labels=\"CSV/train_label_vector.pkl\")\n",
    "test_dl = torch.utils.data.DataLoader(test_dataset, batch_size = 1, num_workers=4, shuffle=False)"
   ]
  },
  {
   "cell_type": "code",
   "execution_count": null,
   "metadata": {},
   "outputs": [],
   "source": [
    "# replace with the checkpoint of your trained model\n",
    "model_name = \"ResNet18-epoch=48_over_50-val_accuracy=0.95.ckpt\"\n",
    "checkpoint_path = \"../IPEO_Planet_project/checkpoints/\"+model_name\n",
    "\n",
    "pretrained = True\n",
    "depth = 18\n",
    "test_model = ResNet(depth=depth) if pretrained else testModel(max_channels=512) \n",
    "model = PlanetModel(model=test_model)\n",
    "model.load_state_dict(torch.load(checkpoint_path)[\"state_dict\"])"
   ]
  },
  {
   "cell_type": "code",
   "execution_count": null,
   "metadata": {},
   "outputs": [],
   "source": [
    "csv_logger = pl_loggers.CSVLogger(save_dir=\"\", name = \"logs\")\n",
    "\n",
    "max_epochs = 50\n",
    "\n",
    "checkpoint_callback = ModelCheckpoint(\n",
    "    dirpath=\"../IPEO_Planet_project/checkpoints\",\n",
    "    filename=f'ResNet{depth}'+'-{epoch}_'+f'over_{max_epochs}'+'-{val_accuracy:.2f}',\n",
    "    monitor=\"val_accuracy\",\n",
    "    mode=\"max\"\n",
    "    ) if pretrained else ModelCheckpoint(\n",
    "    dirpath=\"../IPEO_Planet_project/checkpoints\",\n",
    "    filename='test-{epoch}_'+ f'over_{max_epochs}'+ '-{val_accuracy:.2f}',\n",
    "    monitor=\"val_accuracy\",\n",
    "    mode=\"max\"\n",
    "    )"
   ]
  },
  {
   "cell_type": "code",
   "execution_count": null,
   "metadata": {},
   "outputs": [],
   "source": [
    "trainer = pl.Trainer(max_epochs=max_epochs, accelerator=\"gpu\", devices=[0], \n",
    "                     logger=csv_logger, callbacks=[checkpoint_callback],\n",
    "                     resume_from_checkpoint=None, check_val_every_n_epoch=1)"
   ]
  },
  {
   "cell_type": "code",
   "execution_count": null,
   "metadata": {},
   "outputs": [],
   "source": [
    "rs = trainer.predict(model, dataloaders=test_dl)"
   ]
  },
  {
   "cell_type": "code",
   "execution_count": null,
   "metadata": {},
   "outputs": [],
   "source": [
    "false_neg, false_pos = np.zeros((1, 17)), np.zeros((1, 17))\n",
    "y_hat, y = list(map(list, zip(*rs)))\n",
    "overall_accuracy = 0.0\n",
    "hamming_dist = 0.0\n",
    "for i in range(len(y_hat)):\n",
    "    overall_accuracy += overall_acc(y_hat[i], y[i])\n",
    "    hamming_dist += Hamming_distance(y_hat[i], y[i])\n",
    "    false_positive, false_negative = count_false(y_hat[i], y[i])\n",
    "    false_pos += false_positive\n",
    "    false_neg += false_negative\n",
    "overall_accuracy = overall_accuracy/len(y_hat)\n",
    "hamming_dist = hamming_dist/len(y_hat)\n",
    "                                        \n",
    "print(f\"Overall accuracy: {overall_accuracy:.4f}\\nHamming distance: {hamming_dist}\")\n",
    "print(false_pos, false_neg)"
   ]
  }
 ],
 "metadata": {
  "kernelspec": {
   "display_name": "Python 3",
   "language": "python",
   "name": "python3"
  },
  "language_info": {
   "codemirror_mode": {
    "name": "ipython",
    "version": 3
   },
   "file_extension": ".py",
   "mimetype": "text/x-python",
   "name": "python",
   "nbconvert_exporter": "python",
   "pygments_lexer": "ipython3",
   "version": "3.10.9"
  },
  "orig_nbformat": 4,
  "vscode": {
   "interpreter": {
    "hash": "1b99ff67b40dbeb3d3f51b38f7b4ea8cde4c2bee889619c7ad0240fb7e21d076"
   }
  }
 },
 "nbformat": 4,
 "nbformat_minor": 2
}
