{
 "cells": [
  {
   "cell_type": "markdown",
   "id": "5430a656-d983-44f0-904b-d0f76bb930de",
   "metadata": {},
   "source": [
    "# PART 1\n",
    "**!!! Ne pas relancer cette partie du code, utiliser le csv \"new_train_labels.csv\" (PART 2) !!!**"
   ]
  },
  {
   "cell_type": "raw",
   "id": "2a978753-b51f-408f-8257-0888f7540d76",
   "metadata": {},
   "source": [
    "import pandas as pd\n",
    "import numpy as np\n",
    "\n",
    "# Load the train_label\n",
    "CSV_PATH = './IPEO_Planet_project/train_labels.csv'\n",
    "df = pd.read_csv(CSV_PATH, sep = ';')\n",
    "df.fillna(value=0, inplace = True)\n",
    "df.head()"
   ]
  },
  {
   "cell_type": "raw",
   "id": "fd5bd497-c70f-444a-bb7c-f3b51205e1c1",
   "metadata": {},
   "source": [
    "# Create DataFrame containing the labels only\n",
    "df_drop_train = df.drop('image_name', axis=1)"
   ]
  },
  {
   "cell_type": "raw",
   "id": "17e438c6-8190-4f16-bcfb-4c27d3c84a46",
   "metadata": {},
   "source": [
    "# Get all the unique labels present in dataset\n",
    "df_concat = pd.concat([df_drop_train[col] for col in df_drop_train])\n",
    "label = df_concat.unique()\n",
    "\n",
    "# Add the label 'image_name'\n",
    "# Drop the label 0 (corresponding to NaN value in orginial train_label csv)\n",
    "# Reorder the labels to get athmospheric labels first, ground labels ('agriculture') after\n",
    "label = label[(label!=0) & (label!='agriculture')]\n",
    "label = np.insert(label, 0, 'image_name')\n",
    "label = np.insert(label, 5, 'agriculture')"
   ]
  },
  {
   "cell_type": "raw",
   "id": "3c733aac-c93f-4a5c-8ea2-173118e3fb59",
   "metadata": {},
   "source": [
    "# Create a Pandas DataFrame with columns corresponding to labels\n",
    "df_label = pd.DataFrame(columns=label)"
   ]
  },
  {
   "cell_type": "raw",
   "id": "b8fefbb7-ac35-4612-b65f-dd0fe8073246",
   "metadata": {},
   "source": [
    "# Fill the DataFrame df_label with image_name corresponding to orginial dataframe (df_na)\n",
    "# Fill with 1 if the label is present in a given row\n",
    "df_na = pd.read_csv(CSV_PATH, sep = ';')\n",
    "for index in df_na.index:\n",
    "    # Add new empty new row in df_label\n",
    "    df_label = df_label.append(pd.Series(dtype='object'), ignore_index=True)\n",
    "    \n",
    "    # Get all the non-nan values of originial df_na\n",
    "    index_values = df_na.loc[index].dropna().values\n",
    "    \n",
    "    # Add the image_name\n",
    "    index_image_name = index_values[0]\n",
    "    df_label.image_name[index] = index_image_name\n",
    "    \n",
    "    index_labels = index_values[1:]\n",
    "    for labels in index_labels:\n",
    "        df_label[labels][index] = 1   "
   ]
  },
  {
   "cell_type": "raw",
   "id": "bd44962a-3c86-4cb1-ad34-7f5b099ceb50",
   "metadata": {},
   "source": [
    "df_label.head()"
   ]
  },
  {
   "cell_type": "raw",
   "id": "ba7bd2ce-6488-451d-a42e-77aebfce7d15",
   "metadata": {},
   "source": [
    "# Fill NaN values with 0\n",
    "# Set image_name as index\n",
    "df_label = df_label.fillna(0)\n",
    "df_label.set_index(df_label.image_name, inplace = True)\n",
    "df_label.drop(columns='image_name', inplace =True)"
   ]
  },
  {
   "cell_type": "raw",
   "id": "95581f37-ec8c-4300-b561-7672e53e613d",
   "metadata": {},
   "source": [
    "# Save DataFrame as csv file\n",
    "NEW_PATH = './IPEO_Planet_project/new_train_labels.csv'\n",
    "df_label.to_csv(path_or_buf=NEW_PATH, sep=',')"
   ]
  },
  {
   "cell_type": "markdown",
   "id": "ee813f33-b995-411e-881a-8c7af8234daa",
   "metadata": {},
   "source": [
    "# PART 2"
   ]
  },
  {
   "cell_type": "code",
   "execution_count": 23,
   "id": "039cdb14-4d01-400b-ab68-9c7444ad3671",
   "metadata": {},
   "outputs": [
    {
     "data": {
      "text/html": [
       "<div>\n",
       "<style scoped>\n",
       "    .dataframe tbody tr th:only-of-type {\n",
       "        vertical-align: middle;\n",
       "    }\n",
       "\n",
       "    .dataframe tbody tr th {\n",
       "        vertical-align: top;\n",
       "    }\n",
       "\n",
       "    .dataframe thead th {\n",
       "        text-align: right;\n",
       "    }\n",
       "</style>\n",
       "<table border=\"1\" class=\"dataframe\">\n",
       "  <thead>\n",
       "    <tr style=\"text-align: right;\">\n",
       "      <th></th>\n",
       "      <th>haze</th>\n",
       "      <th>clear</th>\n",
       "      <th>cloudy</th>\n",
       "      <th>partly_cloudy</th>\n",
       "      <th>agriculture</th>\n",
       "      <th>conventional_mine</th>\n",
       "      <th>bare_ground</th>\n",
       "      <th>artisinal_mine</th>\n",
       "      <th>blooming</th>\n",
       "      <th>blow_down</th>\n",
       "      <th>cultivation</th>\n",
       "      <th>habitation</th>\n",
       "      <th>water</th>\n",
       "      <th>primary</th>\n",
       "      <th>road</th>\n",
       "      <th>selective_logging</th>\n",
       "      <th>slash_burn</th>\n",
       "    </tr>\n",
       "  </thead>\n",
       "  <tbody>\n",
       "    <tr>\n",
       "      <th>0</th>\n",
       "      <td>2697</td>\n",
       "      <td>28431</td>\n",
       "      <td>2089</td>\n",
       "      <td>7261</td>\n",
       "      <td>12315</td>\n",
       "      <td>100</td>\n",
       "      <td>862</td>\n",
       "      <td>339</td>\n",
       "      <td>332</td>\n",
       "      <td>98</td>\n",
       "      <td>4477</td>\n",
       "      <td>3660</td>\n",
       "      <td>7411</td>\n",
       "      <td>37513</td>\n",
       "      <td>8071</td>\n",
       "      <td>340</td>\n",
       "      <td>209</td>\n",
       "    </tr>\n",
       "  </tbody>\n",
       "</table>\n",
       "</div>"
      ],
      "text/plain": [
       "   haze  clear cloudy partly_cloudy agriculture conventional_mine bare_ground  \\\n",
       "0  2697  28431   2089          7261       12315               100         862   \n",
       "\n",
       "  artisinal_mine blooming blow_down cultivation habitation water primary  \\\n",
       "0            339      332        98        4477       3660  7411   37513   \n",
       "\n",
       "   road selective_logging slash_burn  \n",
       "0  8071               340        209  "
      ]
     },
     "execution_count": 23,
     "metadata": {},
     "output_type": "execute_result"
    }
   ],
   "source": [
    "import pandas as pd\n",
    "import numpy as np\n",
    "\n",
    "# Load the train_label\n",
    "CSV_PATH = './IPEO_Planet_project/new_train_labels.csv'\n",
    "train_label = pd.read_csv(CSV_PATH, sep = ',')\n",
    "label_sum = pd.DataFrame(columns = train_label.drop('image_name',axis=1).columns)\n",
    "label_sum.append(train_label.drop('image_name', axis=1).sum(), ignore_index = True)"
   ]
  }
 ],
 "metadata": {
  "kernelspec": {
   "display_name": "Python 3",
   "language": "python",
   "name": "python3"
  },
  "language_info": {
   "codemirror_mode": {
    "name": "ipython",
    "version": 3
   },
   "file_extension": ".py",
   "mimetype": "text/x-python",
   "name": "python",
   "nbconvert_exporter": "python",
   "pygments_lexer": "ipython3",
   "version": "3.10.9 (tags/v3.10.9:1dd9be6, Dec  6 2022, 20:01:21) [MSC v.1934 64 bit (AMD64)]"
  },
  "vscode": {
   "interpreter": {
    "hash": "1b99ff67b40dbeb3d3f51b38f7b4ea8cde4c2bee889619c7ad0240fb7e21d076"
   }
  }
 },
 "nbformat": 4,
 "nbformat_minor": 5
}
