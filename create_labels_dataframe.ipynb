{
 "cells": [
  {
   "cell_type": "markdown",
   "id": "5430a656-d983-44f0-904b-d0f76bb930de",
   "metadata": {},
   "source": [
    "# PART 1\n",
    "**!!! Ne pas relancer cette partie du code, utiliser le csv \"new_train_labels.csv\" (PART 2) !!!**"
   ]
  },
  {
   "cell_type": "markdown",
   "id": "fa3bc9f4-8c5f-4b16-87c4-1ecd77a93f28",
   "metadata": {},
   "source": [
    "import pandas as pd\n",
    "import numpy as np\n",
    "\n",
    "# Load the train_label\n",
    "CSV_PATH = './IPEO_Planet_project/train_labels.csv'\n",
    "df = pd.read_csv(CSV_PATH, sep = ';')\n",
    "df.fillna(value=0, inplace = True)\n",
    "df.head()"
   ]
  },
  {
   "cell_type": "markdown",
   "id": "644447c2-84d1-4040-ab06-96cdf66f79c4",
   "metadata": {},
   "source": [
    "# Create DataFrame containing the labels only\n",
    "df_drop_train = df.drop('image_name', axis=1)"
   ]
  },
  {
   "cell_type": "markdown",
   "id": "8a22be44-cb61-4782-bf52-8010b6bd6b9c",
   "metadata": {},
   "source": [
    "# Get all the unique labels present in dataset\n",
    "df_concat = pd.concat([df_drop_train[col] for col in df_drop_train])\n",
    "label = df_concat.unique()\n",
    "\n",
    "# Add the label 'image_name'\n",
    "# Drop the label 0 (corresponding to NaN value in orginial train_label csv)\n",
    "# Reorder the labels to get athmospheric labels first, ground labels ('agriculture') after\n",
    "label = label[(label!=0) & (label!='agriculture')]\n",
    "label = np.insert(label, 0, 'image_name')\n",
    "label = np.insert(label, 5, 'agriculture')"
   ]
  },
  {
   "cell_type": "markdown",
   "id": "2160f799-41ca-4720-890d-9707879cd55d",
   "metadata": {},
   "source": [
    "# Create a Pandas DataFrame with columns corresponding to labels\n",
    "df_label = pd.DataFrame(columns=label)"
   ]
  },
  {
   "cell_type": "markdown",
   "id": "31b2c198-15d2-4457-a158-91a050f3cc79",
   "metadata": {},
   "source": [
    "# Fill the DataFrame df_label with image_name corresponding to orginial dataframe (df_na)\n",
    "# Fill with 1 if the label is present in a given row\n",
    "df_na = pd.read_csv(CSV_PATH, sep = ';')\n",
    "for index in df_na.index:\n",
    "    # Add new empty new row in df_label\n",
    "    df_label = df_label.append(pd.Series(dtype='object'), ignore_index=True)\n",
    "    \n",
    "    # Get all the non-nan values of originial df_na\n",
    "    index_values = df_na.loc[index].dropna().values\n",
    "    \n",
    "    # Add the image_name\n",
    "    index_image_name = index_values[0]\n",
    "    df_label.image_name[index] = index_image_name\n",
    "    \n",
    "    index_labels = index_values[1:]\n",
    "    for labels in index_labels:\n",
    "        df_label[labels][index] = 1   "
   ]
  },
  {
   "cell_type": "markdown",
   "id": "742c8c65-5ab4-4bef-b73b-46c3516ac5bb",
   "metadata": {},
   "source": [
    "df_label.head()"
   ]
  },
  {
   "cell_type": "markdown",
   "id": "9228fe4a-d434-4853-8ab1-c346acdf2017",
   "metadata": {},
   "source": [
    "# Fill NaN values with 0\n",
    "# Set image_name as index\n",
    "df_label = df_label.fillna(0)\n",
    "df_label.set_index(df_label.image_name, inplace = True)\n",
    "df_label.drop(columns='image_name', inplace =True)"
   ]
  },
  {
   "cell_type": "markdown",
   "id": "8ed6f800-d189-46e8-b29d-b997dc1b961a",
   "metadata": {},
   "source": [
    "# Save DataFrame as csv file\n",
    "NEW_PATH = './IPEO_Planet_project/new_train_labels.csv'\n",
    "df_label.to_csv(path_or_buf=NEW_PATH, sep=',')"
   ]
  },
  {
   "cell_type": "markdown",
   "id": "ee813f33-b995-411e-881a-8c7af8234daa",
   "metadata": {},
   "source": [
    "# PART 2"
   ]
  },
  {
   "cell_type": "code",
   "execution_count": 23,
   "id": "039cdb14-4d01-400b-ab68-9c7444ad3671",
   "metadata": {},
   "outputs": [
    {
     "data": {
      "text/html": [
       "<div>\n",
       "<style scoped>\n",
       "    .dataframe tbody tr th:only-of-type {\n",
       "        vertical-align: middle;\n",
       "    }\n",
       "\n",
       "    .dataframe tbody tr th {\n",
       "        vertical-align: top;\n",
       "    }\n",
       "\n",
       "    .dataframe thead th {\n",
       "        text-align: right;\n",
       "    }\n",
       "</style>\n",
       "<table border=\"1\" class=\"dataframe\">\n",
       "  <thead>\n",
       "    <tr style=\"text-align: right;\">\n",
       "      <th></th>\n",
       "      <th>haze</th>\n",
       "      <th>clear</th>\n",
       "      <th>cloudy</th>\n",
       "      <th>partly_cloudy</th>\n",
       "      <th>agriculture</th>\n",
       "      <th>conventional_mine</th>\n",
       "      <th>bare_ground</th>\n",
       "      <th>artisinal_mine</th>\n",
       "      <th>blooming</th>\n",
       "      <th>blow_down</th>\n",
       "      <th>cultivation</th>\n",
       "      <th>habitation</th>\n",
       "      <th>water</th>\n",
       "      <th>primary</th>\n",
       "      <th>road</th>\n",
       "      <th>selective_logging</th>\n",
       "      <th>slash_burn</th>\n",
       "    </tr>\n",
       "  </thead>\n",
       "  <tbody>\n",
       "    <tr>\n",
       "      <th>0</th>\n",
       "      <td>2697</td>\n",
       "      <td>28431</td>\n",
       "      <td>2089</td>\n",
       "      <td>7261</td>\n",
       "      <td>12315</td>\n",
       "      <td>100</td>\n",
       "      <td>862</td>\n",
       "      <td>339</td>\n",
       "      <td>332</td>\n",
       "      <td>98</td>\n",
       "      <td>4477</td>\n",
       "      <td>3660</td>\n",
       "      <td>7411</td>\n",
       "      <td>37513</td>\n",
       "      <td>8071</td>\n",
       "      <td>340</td>\n",
       "      <td>209</td>\n",
       "    </tr>\n",
       "  </tbody>\n",
       "</table>\n",
       "</div>"
      ],
      "text/plain": [
       "   haze  clear cloudy partly_cloudy agriculture conventional_mine bare_ground  \\\n",
       "0  2697  28431   2089          7261       12315               100         862   \n",
       "\n",
       "  artisinal_mine blooming blow_down cultivation habitation water primary  \\\n",
       "0            339      332        98        4477       3660  7411   37513   \n",
       "\n",
       "   road selective_logging slash_burn  \n",
       "0  8071               340        209  "
      ]
     },
     "execution_count": 23,
     "metadata": {},
     "output_type": "execute_result"
    }
   ],
   "source": [
    "import os\n",
    "import numpy as np\n",
    "from skimage.io import imsave, imread\n",
    "import matplotlib as plt\n",
    "import pandas as pd"
   ]
  },
  {
   "cell_type": "code",
   "execution_count": null,
   "id": "05cdf29e-6330-4bd3-9d07-fcbf4c2399f7",
   "metadata": {},
   "outputs": [],
   "source": [
    "from google.colab import drive\n",
    "drive.mount('/content/drive')"
   ]
  },
  {
   "cell_type": "code",
   "execution_count": null,
   "id": "d35f5ef8-5836-435c-8bd0-4c756302d10b",
   "metadata": {},
   "outputs": [],
   "source": [
    "%cd /content/drive/MyDrive/Colab_Notebooks/Observation_Earth/IPEO-Understanding-the-Amazon-from-Space"
   ]
  },
  {
   "cell_type": "code",
   "execution_count": null,
   "id": "4e6fa044-b038-49b9-9de3-79cb393bce14",
   "metadata": {},
   "outputs": [],
   "source": [
    "# Load the train_label\n",
    "CSV_PATH = './CSV/new_train_labels.csv'\n",
    "train_label = pd.read_csv(CSV_PATH)\n",
    "label_sum = pd.DataFrame(columns = train_label.drop('image_name',axis=1).columns)\n",
    "label_sum = label_sum.append(train_label.drop('image_name', axis=1).sum(), ignore_index = True)\n",
    "label_sum"
   ]
  },
  {
   "cell_type": "code",
   "execution_count": null,
   "id": "ddb61bd8-eaff-4f16-aed5-e56a0a9152bf",
   "metadata": {},
   "outputs": [],
   "source": [
    "rare_label_list = list()\n",
    "for labels_name in label_sum.columns:\n",
    "  if label_sum[labels_name].iloc[0] < 1000:\n",
    "    rare_label_list.append([label_sum[labels_name].iloc[0], labels_name])\n",
    "rare_label_list.sort()\n",
    "rare_label_list = np.array(rare_label_list)\n",
    "rare_label_list[:,1]"
   ]
  },
  {
   "cell_type": "code",
   "execution_count": null,
   "id": "4ab000f7-1c7b-405e-a959-47c050a5b4eb",
   "metadata": {},
   "outputs": [],
   "source": [
    "all_index_rare = list(train_label[train_label[rare_label_list[:,1]].sum(axis=1)>0].index)\n",
    "all_index_not_rare = list(set(train_label.index) - set(all_index_rare))\n",
    "list_final = []\n",
    "\n",
    "for rare in rare_label_list[:,1]:\n",
    "  tempo_list = []\n",
    "  for i in reversed(all_index_rare):\n",
    "    if train_label[rare].loc[i] == 1:\n",
    "      all_index_rare.remove(i)\n",
    "      tempo_list.append(i)\n",
    "  list_final.append(tempo_list)\n",
    "list_final.append(all_index_not_rare)"
   ]
  },
  {
   "cell_type": "code",
   "execution_count": null,
   "id": "ba205de8-5a10-40da-aa05-38781ee8bc96",
   "metadata": {},
   "outputs": [],
   "source": [
    "import pickle\n",
    "with open('./List_label_rare/list_label_rare.npy', \"wb\") as fp:\n",
    "  pickle.dump(list_final, fp)"
   ]
  },
  {
   "cell_type": "markdown",
   "id": "a5db6047-16a1-45e9-abd1-2486a9ab4e8e",
   "metadata": {},
   "source": [
    "# Part 3\n",
    "Loading image as numpy matrix\n",
    "- ! Don't rerun this part (+4h of loading, already exists)"
   ]
  },
  {
   "cell_type": "markdown",
   "id": "2435cd09-0cde-4565-979e-dfda545a38fd",
   "metadata": {},
   "source": [
    "import os\n",
    "import numpy as np\n",
    "from skimage.io import imsave, imread\n",
    "import matplotlib as plt"
   ]
  },
  {
   "cell_type": "markdown",
   "id": "d3923cb0-7d74-439f-b18e-708978b7e4d0",
   "metadata": {},
   "source": [
    "from google.colab import drive\n",
    "drive.mount('/content/drive')"
   ]
  },
  {
   "cell_type": "markdown",
   "id": "f244dd99-0603-4758-881a-e02354436aff",
   "metadata": {},
   "source": [
    "%cd /content/drive/MyDrive/Colab_Notebooks/Observation_Earth/IPEO-Understanding-the-Amazon-from-Space\n",
    "#!git checkout Test_Louis\n",
    "#!git pull"
   ]
  },
  {
   "cell_type": "markdown",
   "id": "bcecce6e-a90c-4f12-af82-8e18ecfc5630",
   "metadata": {},
   "source": [
    "IMAGE_PATH = '../IPEO_Planet_project/train-jpg'"
   ]
  },
  {
   "cell_type": "markdown",
   "id": "ae3898d1-2c40-4bb9-9d58-d9eb1eb9dd6a",
   "metadata": {},
   "source": [
    "# Create numpy matrix representing image\n",
    "numpy_image = np.ndarray(shape=(256,256,3,0))\n",
    "\n",
    "for i in os.listdir(IMAGE_PATH):\n",
    "  #obtain the index of the current image file (example : '0-999')\n",
    "  index = i.split(\"_\")[1]\n",
    "\n",
    "  # Example : '../IPEO_Planet_project/train-jpg/train_0-999'\n",
    "  train_tuple = os.path.join(IMAGE_PATH,i)\n",
    "\n",
    "  for j in os.listdir(train_tuple):\n",
    "    # Example : '../IPEO_Planet_project/train-jpg/train_0-999/train_1.jpg'\n",
    "    image_directories = os.path.join(train_tuple, j)\n",
    "    image_array = imread(image_directories)\n",
    "    image_array = np.reshape(image_array, (256,256,3,1))\n",
    "    numpy_image = np.concatenate((numpy_image, image_array), axis = 3)\n",
    "\n",
    "  np.save(file = os.path.join(train_tuple, f\"numpy_ndarray_{index}.npy\"), arr = numpy_image)\n",
    "\n",
    "  # Empty the ndarray to fill it with new image\n",
    "  numpy_image = np.empty(shape=(256,256,3,0))"
   ]
  }
 ],
 "metadata": {
  "kernelspec": {
   "display_name": "Python 3 (ipykernel)",
   "language": "python",
   "name": "python3"
  },
  "language_info": {
   "codemirror_mode": {
    "name": "ipython",
    "version": 3
   },
   "file_extension": ".py",
   "mimetype": "text/x-python",
   "name": "python",
   "nbconvert_exporter": "python",
   "pygments_lexer": "ipython3",
   "version": "3.9.12"
  },
  "vscode": {
   "interpreter": {
    "hash": "1b99ff67b40dbeb3d3f51b38f7b4ea8cde4c2bee889619c7ad0240fb7e21d076"
   }
  }
 },
 "nbformat": 4,
 "nbformat_minor": 5
}
